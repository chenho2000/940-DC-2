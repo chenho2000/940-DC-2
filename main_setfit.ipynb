{
 "cells": [
  {
   "cell_type": "code",
   "execution_count": 1,
   "id": "initial_id",
   "metadata": {
    "collapsed": true,
    "ExecuteTime": {
     "end_time": "2024-03-14T04:15:29.084892Z",
     "start_time": "2024-03-14T04:15:26.852853Z"
    }
   },
   "outputs": [
    {
     "name": "stdout",
     "output_type": "stream",
     "text": [
      "Collecting setfit\r\n",
      "  Downloading setfit-1.0.3-py3-none-any.whl.metadata (11 kB)\r\n",
      "Requirement already satisfied: datasets>=2.3.0 in /Users/chen/anaconda3/envs/dev/lib/python3.11/site-packages (from setfit) (2.12.0)\r\n",
      "Collecting sentence-transformers>=2.2.1 (from setfit)\r\n",
      "  Downloading sentence_transformers-2.5.1-py3-none-any.whl.metadata (11 kB)\r\n",
      "Requirement already satisfied: evaluate>=0.3.0 in /Users/chen/anaconda3/envs/dev/lib/python3.11/site-packages (from setfit) (0.4.0)\r\n",
      "Requirement already satisfied: huggingface-hub>=0.13.0 in /Users/chen/anaconda3/envs/dev/lib/python3.11/site-packages (from setfit) (0.20.3)\r\n",
      "Requirement already satisfied: scikit-learn in /Users/chen/anaconda3/envs/dev/lib/python3.11/site-packages (from setfit) (1.1.3)\r\n",
      "Requirement already satisfied: packaging in /Users/chen/anaconda3/envs/dev/lib/python3.11/site-packages (from setfit) (23.1)\r\n",
      "Requirement already satisfied: numpy>=1.17 in /Users/chen/anaconda3/envs/dev/lib/python3.11/site-packages (from datasets>=2.3.0->setfit) (1.26.4)\r\n",
      "Requirement already satisfied: pyarrow>=8.0.0 in /Users/chen/anaconda3/envs/dev/lib/python3.11/site-packages (from datasets>=2.3.0->setfit) (14.0.2)\r\n",
      "Requirement already satisfied: dill<0.3.7,>=0.3.0 in /Users/chen/anaconda3/envs/dev/lib/python3.11/site-packages (from datasets>=2.3.0->setfit) (0.3.6)\r\n",
      "Requirement already satisfied: pandas in /Users/chen/anaconda3/envs/dev/lib/python3.11/site-packages (from datasets>=2.3.0->setfit) (2.2.1)\r\n",
      "Requirement already satisfied: requests>=2.19.0 in /Users/chen/anaconda3/envs/dev/lib/python3.11/site-packages (from datasets>=2.3.0->setfit) (2.31.0)\r\n",
      "Requirement already satisfied: tqdm>=4.62.1 in /Users/chen/anaconda3/envs/dev/lib/python3.11/site-packages (from datasets>=2.3.0->setfit) (4.65.0)\r\n",
      "Requirement already satisfied: xxhash in /Users/chen/anaconda3/envs/dev/lib/python3.11/site-packages (from datasets>=2.3.0->setfit) (2.0.2)\r\n",
      "Requirement already satisfied: multiprocess in /Users/chen/anaconda3/envs/dev/lib/python3.11/site-packages (from datasets>=2.3.0->setfit) (0.70.14)\r\n",
      "Requirement already satisfied: fsspec>=2021.11.1 in /Users/chen/anaconda3/envs/dev/lib/python3.11/site-packages (from fsspec[http]>=2021.11.1->datasets>=2.3.0->setfit) (2023.10.0)\r\n",
      "Requirement already satisfied: aiohttp in /Users/chen/anaconda3/envs/dev/lib/python3.11/site-packages (from datasets>=2.3.0->setfit) (3.9.3)\r\n",
      "Requirement already satisfied: responses<0.19 in /Users/chen/anaconda3/envs/dev/lib/python3.11/site-packages (from datasets>=2.3.0->setfit) (0.13.3)\r\n",
      "Requirement already satisfied: pyyaml>=5.1 in /Users/chen/anaconda3/envs/dev/lib/python3.11/site-packages (from datasets>=2.3.0->setfit) (6.0.1)\r\n",
      "Requirement already satisfied: filelock in /Users/chen/anaconda3/envs/dev/lib/python3.11/site-packages (from huggingface-hub>=0.13.0->setfit) (3.13.1)\r\n",
      "Requirement already satisfied: typing-extensions>=3.7.4.3 in /Users/chen/anaconda3/envs/dev/lib/python3.11/site-packages (from huggingface-hub>=0.13.0->setfit) (4.9.0)\r\n",
      "Requirement already satisfied: transformers<5.0.0,>=4.32.0 in /Users/chen/anaconda3/envs/dev/lib/python3.11/site-packages (from sentence-transformers>=2.2.1->setfit) (4.37.2)\r\n",
      "Requirement already satisfied: torch>=1.11.0 in /Users/chen/anaconda3/envs/dev/lib/python3.11/site-packages (from sentence-transformers>=2.2.1->setfit) (2.2.0.post100)\r\n",
      "Requirement already satisfied: scipy in /Users/chen/anaconda3/envs/dev/lib/python3.11/site-packages (from sentence-transformers>=2.2.1->setfit) (1.10.0)\r\n",
      "Collecting Pillow (from sentence-transformers>=2.2.1->setfit)\r\n",
      "  Using cached pillow-10.2.0-cp311-cp311-macosx_11_0_arm64.whl.metadata (9.7 kB)\r\n",
      "Requirement already satisfied: joblib>=1.0.0 in /Users/chen/anaconda3/envs/dev/lib/python3.11/site-packages (from scikit-learn->setfit) (1.2.0)\r\n",
      "Requirement already satisfied: threadpoolctl>=2.0.0 in /Users/chen/anaconda3/envs/dev/lib/python3.11/site-packages (from scikit-learn->setfit) (2.2.0)\r\n",
      "Requirement already satisfied: aiosignal>=1.1.2 in /Users/chen/anaconda3/envs/dev/lib/python3.11/site-packages (from aiohttp->datasets>=2.3.0->setfit) (1.2.0)\r\n",
      "Requirement already satisfied: attrs>=17.3.0 in /Users/chen/anaconda3/envs/dev/lib/python3.11/site-packages (from aiohttp->datasets>=2.3.0->setfit) (23.1.0)\r\n",
      "Requirement already satisfied: frozenlist>=1.1.1 in /Users/chen/anaconda3/envs/dev/lib/python3.11/site-packages (from aiohttp->datasets>=2.3.0->setfit) (1.4.0)\r\n",
      "Requirement already satisfied: multidict<7.0,>=4.5 in /Users/chen/anaconda3/envs/dev/lib/python3.11/site-packages (from aiohttp->datasets>=2.3.0->setfit) (6.0.4)\r\n",
      "Requirement already satisfied: yarl<2.0,>=1.0 in /Users/chen/anaconda3/envs/dev/lib/python3.11/site-packages (from aiohttp->datasets>=2.3.0->setfit) (1.9.3)\r\n",
      "Requirement already satisfied: charset-normalizer<4,>=2 in /Users/chen/anaconda3/envs/dev/lib/python3.11/site-packages (from requests>=2.19.0->datasets>=2.3.0->setfit) (2.0.4)\r\n",
      "Requirement already satisfied: idna<4,>=2.5 in /Users/chen/anaconda3/envs/dev/lib/python3.11/site-packages (from requests>=2.19.0->datasets>=2.3.0->setfit) (3.4)\r\n",
      "Requirement already satisfied: urllib3<3,>=1.21.1 in /Users/chen/anaconda3/envs/dev/lib/python3.11/site-packages (from requests>=2.19.0->datasets>=2.3.0->setfit) (2.0.7)\r\n",
      "Requirement already satisfied: certifi>=2017.4.17 in /Users/chen/anaconda3/envs/dev/lib/python3.11/site-packages (from requests>=2.19.0->datasets>=2.3.0->setfit) (2024.2.2)\r\n",
      "Requirement already satisfied: six in /Users/chen/anaconda3/envs/dev/lib/python3.11/site-packages (from responses<0.19->datasets>=2.3.0->setfit) (1.16.0)\r\n",
      "Requirement already satisfied: sympy in /Users/chen/anaconda3/envs/dev/lib/python3.11/site-packages (from torch>=1.11.0->sentence-transformers>=2.2.1->setfit) (1.12)\r\n",
      "Requirement already satisfied: networkx in /Users/chen/anaconda3/envs/dev/lib/python3.11/site-packages (from torch>=1.11.0->sentence-transformers>=2.2.1->setfit) (3.1)\r\n",
      "Requirement already satisfied: jinja2 in /Users/chen/anaconda3/envs/dev/lib/python3.11/site-packages (from torch>=1.11.0->sentence-transformers>=2.2.1->setfit) (3.1.3)\r\n",
      "Requirement already satisfied: regex!=2019.12.17 in /Users/chen/anaconda3/envs/dev/lib/python3.11/site-packages (from transformers<5.0.0,>=4.32.0->sentence-transformers>=2.2.1->setfit) (2023.10.3)\r\n",
      "Requirement already satisfied: tokenizers<0.19,>=0.14 in /Users/chen/anaconda3/envs/dev/lib/python3.11/site-packages (from transformers<5.0.0,>=4.32.0->sentence-transformers>=2.2.1->setfit) (0.15.1)\r\n",
      "Requirement already satisfied: safetensors>=0.4.1 in /Users/chen/anaconda3/envs/dev/lib/python3.11/site-packages (from transformers<5.0.0,>=4.32.0->sentence-transformers>=2.2.1->setfit) (0.4.2)\r\n",
      "Requirement already satisfied: python-dateutil>=2.8.2 in /Users/chen/anaconda3/envs/dev/lib/python3.11/site-packages (from pandas->datasets>=2.3.0->setfit) (2.8.2)\r\n",
      "Requirement already satisfied: pytz>=2020.1 in /Users/chen/anaconda3/envs/dev/lib/python3.11/site-packages (from pandas->datasets>=2.3.0->setfit) (2023.3.post1)\r\n",
      "Requirement already satisfied: tzdata>=2022.7 in /Users/chen/anaconda3/envs/dev/lib/python3.11/site-packages (from pandas->datasets>=2.3.0->setfit) (2023.3)\r\n",
      "Requirement already satisfied: MarkupSafe>=2.0 in /Users/chen/anaconda3/envs/dev/lib/python3.11/site-packages (from jinja2->torch>=1.11.0->sentence-transformers>=2.2.1->setfit) (2.1.3)\r\n",
      "Requirement already satisfied: mpmath>=0.19 in /Users/chen/anaconda3/envs/dev/lib/python3.11/site-packages (from sympy->torch>=1.11.0->sentence-transformers>=2.2.1->setfit) (1.3.0)\r\n",
      "Downloading setfit-1.0.3-py3-none-any.whl (75 kB)\r\n",
      "\u001B[2K   \u001B[90m━━━━━━━━━━━━━━━━━━━━━━━━━━━━━━━━━━━━━━━━\u001B[0m \u001B[32m75.9/75.9 kB\u001B[0m \u001B[31m3.9 MB/s\u001B[0m eta \u001B[36m0:00:00\u001B[0m\r\n",
      "\u001B[?25hDownloading sentence_transformers-2.5.1-py3-none-any.whl (156 kB)\r\n",
      "\u001B[2K   \u001B[90m━━━━━━━━━━━━━━━━━━━━━━━━━━━━━━━━━━━━━━━━\u001B[0m \u001B[32m156.5/156.5 kB\u001B[0m \u001B[31m7.9 MB/s\u001B[0m eta \u001B[36m0:00:00\u001B[0m\r\n",
      "\u001B[?25hUsing cached pillow-10.2.0-cp311-cp311-macosx_11_0_arm64.whl (3.3 MB)\r\n",
      "Installing collected packages: Pillow, sentence-transformers, setfit\r\n",
      "Successfully installed Pillow-10.2.0 sentence-transformers-2.5.1 setfit-1.0.3\r\n"
     ]
    }
   ],
   "source": [
    "! pip install setfit"
   ]
  },
  {
   "cell_type": "code",
   "outputs": [],
   "source": [
    "from sentence_transformers.losses import CosineSimilarityLoss\n",
    "from setfit import SetFitModel, SetFitTrainer\n",
    "import pandas as pd\n",
    "import numpy as np\n",
    "import torch\n",
    "from datasets import Dataset\n",
    "import random\n",
    "import os"
   ],
   "metadata": {
    "collapsed": false,
    "ExecuteTime": {
     "end_time": "2024-03-14T04:16:26.760725Z",
     "start_time": "2024-03-14T04:16:23.916375Z"
    }
   },
   "id": "32aeed4cd65481",
   "execution_count": 2
  },
  {
   "cell_type": "code",
   "outputs": [
    {
     "name": "stdout",
     "output_type": "stream",
     "text": [
      "mps\n"
     ]
    }
   ],
   "source": [
    "# Check gpu\n",
    "device = \"mps\" if torch.backends.mps.is_built() else \"cuda\" if torch.cuda.is_available() else \"cpu\"\n",
    "print(device)"
   ],
   "metadata": {
    "collapsed": false,
    "ExecuteTime": {
     "end_time": "2024-03-14T04:17:00.077281Z",
     "start_time": "2024-03-14T04:17:00.073525Z"
    }
   },
   "id": "a561bfc1ebb22ac9",
   "execution_count": 3
  },
  {
   "cell_type": "code",
   "outputs": [],
   "source": [
    "# For reproducibility, you can define the following function to fix the random seeds.\n",
    "def seed_everything(seed):\n",
    "    np.random.seed(seed)\n",
    "    random.seed(seed)\n",
    "    torch.manual_seed(seed)\n",
    "    torch.cuda.manual_seed(seed)\n",
    "    os.environ['PYTHONHASHSEED'] = str(seed)\n",
    "\n",
    "\n",
    "seed_everything(42)"
   ],
   "metadata": {
    "collapsed": false,
    "ExecuteTime": {
     "end_time": "2024-03-14T04:17:00.443616Z",
     "start_time": "2024-03-14T04:17:00.439357Z"
    }
   },
   "id": "db35cfe28fa3005f",
   "execution_count": 4
  },
  {
   "cell_type": "code",
   "outputs": [],
   "source": [
    "# Read the data\n",
    "yelp_review = pd.read_csv('./data/train.csv', header=0)\n",
    "# make the stars 0, 1, 2\n",
    "yelp_review['stars'] = yelp_review['stars'] - 1\n",
    "\n",
    "test_data = pd.read_csv('./data/new_test.csv', header=0)\n",
    "test_label = list(test_data['stars'])\n",
    "final_test_data = pd.read_csv('./data/test.csv', header=0)\n",
    "final_test_data['ID'] = 0\n",
    "\n",
    "yelp_review = yelp_review.rename(columns={'stars': 'label'})\n",
    "test_data = test_data.rename(columns={'stars': 'label'})\n",
    "final_test_data = final_test_data.rename(columns={'ID': 'label'})\n",
    "\n",
    "dataset = Dataset.from_pandas(yelp_review)\n",
    "test_dataset = Dataset.from_pandas(test_data)\n",
    "fina_test_dataset = Dataset.from_pandas(final_test_data)\n",
    "\n",
    "# Load SetFit model from Hub\n",
    "model = SetFitModel.from_pretrained(\"sentence-transformers/paraphrase-mpnet-base-v2\")"
   ],
   "metadata": {
    "collapsed": false,
    "ExecuteTime": {
     "end_time": "2024-03-14T04:17:52.495707Z",
     "start_time": "2024-03-14T04:17:52.410832Z"
    }
   },
   "id": "b699c24fa83cb64e",
   "execution_count": 6
  },
  {
   "cell_type": "code",
   "outputs": [
    {
     "name": "stderr",
     "output_type": "stream",
     "text": [
      "/var/folders/7y/z1_q_y7n1rgcftmm9bnt0lt00000gn/T/ipykernel_2972/4267404778.py:2: DeprecationWarning: `SetFitTrainer` has been deprecated and will be removed in v2.0.0 of SetFit. Please use `Trainer` instead.\n",
      "  trainer = SetFitTrainer(\n"
     ]
    },
    {
     "data": {
      "text/plain": "Map:   0%|          | 0/6000 [00:00<?, ? examples/s]",
      "application/vnd.jupyter.widget-view+json": {
       "version_major": 2,
       "version_minor": 0,
       "model_id": "05158c594a274366874bed51fd4aa288"
      }
     },
     "metadata": {},
     "output_type": "display_data"
    }
   ],
   "source": [
    "# Create trainer\n",
    "trainer = SetFitTrainer(\n",
    "    model=model,\n",
    "    train_dataset=dataset,\n",
    "    eval_dataset=test_dataset,\n",
    "    loss_class=CosineSimilarityLoss,\n",
    "    batch_size=4,\n",
    "    num_iterations=20, # Number of text pairs to generate for contrastive learning\n",
    "    num_epochs=1 # Number of epochs to use for contrastive learning\n",
    ")\n"
   ],
   "metadata": {
    "collapsed": false,
    "ExecuteTime": {
     "end_time": "2024-03-14T04:23:21.853619Z",
     "start_time": "2024-03-14T04:23:21.704462Z"
    }
   },
   "id": "5d01ea721018ee18",
   "execution_count": 11
  },
  {
   "cell_type": "code",
   "outputs": [
    {
     "name": "stderr",
     "output_type": "stream",
     "text": [
      "***** Running training *****\n",
      "  Num unique pairs = 240000\n",
      "  Batch size = 4\n",
      "  Num epochs = 1\n",
      "  Total optimization steps = 60000\n"
     ]
    },
    {
     "data": {
      "text/plain": "<IPython.core.display.HTML object>",
      "text/html": "\n    <div>\n      \n      <progress value='2' max='60000' style='width:300px; height:20px; vertical-align: middle;'></progress>\n      [    2/60000 : < :, Epoch 0.00/0]\n    </div>\n    <table border=\"1\" class=\"dataframe\">\n  <thead>\n <tr style=\"text-align: left;\">\n      <th>Step</th>\n      <th>Training Loss</th>\n    </tr>\n  </thead>\n  <tbody>\n  </tbody>\n</table><p>"
     },
     "metadata": {},
     "output_type": "display_data"
    }
   ],
   "source": [
    "# Train and evaluate!\n",
    "trainer.train()\n",
    "metrics = trainer.evaluate()"
   ],
   "metadata": {
    "collapsed": false,
    "is_executing": true,
    "ExecuteTime": {
     "start_time": "2024-03-14T04:23:24.129466Z"
    }
   },
   "id": "b1dd1eb719b6ea8d",
   "execution_count": null
  },
  {
   "cell_type": "code",
   "outputs": [],
   "source": [],
   "metadata": {
    "collapsed": false
   },
   "id": "fee8b36693dce3fa"
  }
 ],
 "metadata": {
  "kernelspec": {
   "display_name": "Python 3",
   "language": "python",
   "name": "python3"
  },
  "language_info": {
   "codemirror_mode": {
    "name": "ipython",
    "version": 2
   },
   "file_extension": ".py",
   "mimetype": "text/x-python",
   "name": "python",
   "nbconvert_exporter": "python",
   "pygments_lexer": "ipython2",
   "version": "2.7.6"
  }
 },
 "nbformat": 4,
 "nbformat_minor": 5
}
